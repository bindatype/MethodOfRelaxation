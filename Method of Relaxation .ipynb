{
 "cells": [
  {
   "cell_type": "markdown",
   "metadata": {},
   "source": [
    "# Method of Relaxation to Solve Laplace's Equation"
   ]
  },
  {
   "cell_type": "markdown",
   "metadata": {},
   "source": [
    "## Poisson's Equation and Its Relation to Laplace's Equation"
   ]
  },
  {
   "cell_type": "markdown",
   "metadata": {},
   "source": [
    "Possion's Equation, given below as a scalar function over a 3-dimensional field, is quite common in science and engineering and although you are not likely to see it often in common data science applications it's solution does lend itself to an interesting numerical technique know as the method of relaxation https://en.wikipedia.org/wiki/Relaxation_(iterative_method). "
   ]
  },
  {
   "cell_type": "markdown",
   "metadata": {},
   "source": [
    "$\\nabla^2f(x,y,z)=-\\phi(x,y,z)$"
   ]
  },
  {
   "cell_type": "markdown",
   "metadata": {},
   "source": [
    "By setting the right hand side of Poisson's equation to zero we get the special case of Laplace's equation, shown below as a 2-dimensional function of $x$ and $y$,"
   ]
  },
  {
   "cell_type": "markdown",
   "metadata": {},
   "source": [
    "$\\nabla^2f(x,y)=0$ where $\\nabla^2$ is known as the Laplacian operator and it takes the form $\\frac{\\partial^2}{\\partial x^2}+\\frac{\\partial^2}{\\partial y^2}$ in two dimensions so, "
   ]
  },
  {
   "cell_type": "markdown",
   "metadata": {},
   "source": [
    "$\\frac{\\partial^2}{\\partial x^2}f(x,y)+\\frac{\\partial^2}{\\partial y^2}f(x,y)=0$\n"
   ]
  },
  {
   "cell_type": "markdown",
   "metadata": {},
   "source": [
    "The method of relaxation is a numerical technique to solve the above equation subject to fixed boundary conditions. Several analytic solutions exist such as the method of Frobenius and separation of variables. Unique solutions are determined once boundary conditions are specified. This method is well known and discussed in any introductory differential equations text. To solve by separation of variables, assume the solution takes the form $f(x,y)=X(x)Y(y)$. Then,"
   ]
  },
  {
   "cell_type": "markdown",
   "metadata": {},
   "source": [
    "$Y(y)\\frac{\\partial^2}{\\partial x^2}X(x)+X(x)\\frac{\\partial^2}{\\partial y^2}Y(y)=0$\n"
   ]
  },
  {
   "cell_type": "markdown",
   "metadata": {},
   "source": [
    "Dividing both sides by $X(x)Y(y)$ yields,"
   ]
  },
  {
   "cell_type": "markdown",
   "metadata": {},
   "source": [
    "$\\frac{1}{X(x)}\\frac{\\partial^2}{\\partial x^2}X(x)+\\frac{1}{Y(y)}\\frac{\\partial^2}{\\partial y^2}Y(y)=0$\n"
   ]
  },
  {
   "cell_type": "markdown",
   "metadata": {},
   "source": [
    "and each term is a function of only one independent variable. In other words, each term is constant with respect to the other. Therefore, we can set $\\frac{1}{X(x)}\\frac{\\partial^2}{\\partial x^2}X(x)=k^2$ and $\\frac{1}{Y(y)}\\frac{\\partial^2}{\\partial y^2}Y(y)=-k^2$. Solutions to these two equations take on the general form,\n",
    "$$X(x)=c_1e^{kx}+c_2e^{-kx}$$\n",
    "$$Y(y)=c_3e^{iky}+c_4e^{-ikx}$$"
   ]
  },
  {
   "cell_type": "markdown",
   "metadata": {},
   "source": [
    "## Taylor's Series and Derivative Relations in One Dimension"
   ]
  },
  {
   "cell_type": "markdown",
   "metadata": {},
   "source": [
    "For the sake of simplicity,\n",
    "let’s look at the 1-$d$ case with the understanding that generalization to higher\n",
    "dimensions is straightforward. In one dimension, Laplace’s equation reads,\n",
    "\n",
    "$$ f''=\\frac{d^2f}{dx^2}=0.$$\n",
    "\n",
    "We know from calculus the definition of a function's first derivative, $f(x)'$, is,\n",
    "\n",
    "$$f'(x)=\\lim_{h\\to 0}\\frac{f(x+h)-f(x)}{h}$$ \n",
    "\n",
    "which comes directly from Taylor's series expansion for $f$ around the point $x$, https://en.wikipedia.org/wiki/Taylor_series. By keeping the first few terms of the Taylor's series of $f$ in both the positive and negative directions, sometimes referred to as the forward and backward terms, we have the following two formulae, "
   ]
  },
  {
   "cell_type": "markdown",
   "metadata": {},
   "source": [
    "$f(x\\pm h)=f(x)\\pm hf'(x)+\\frac{h^2}{2}f''(x)+O(h^3) ...$ "
   ]
  },
  {
   "cell_type": "markdown",
   "metadata": {},
   "source": [
    "By taking the difference of the forward and backward terms and neglecting 3rd order and higher terms we arrive at an\n",
    "expression for the first derivative of $f$, "
   ]
  },
  {
   "cell_type": "markdown",
   "metadata": {},
   "source": [
    "$f(x+h)-f(x-h)=2hf'(x)\\longrightarrow f'(x)=\\frac{f(x+h)-f(x-h)}{2h}$"
   ]
  },
  {
   "cell_type": "markdown",
   "metadata": {},
   "source": [
    "By evaluating the sum of the forward and backward terms and again neglecting third order and higher terms we arrive at an expression for $f(x)$ in terms of the second derivative and $f(x+h)$ and $f(x-h)$, "
   ]
  },
  {
   "cell_type": "markdown",
   "metadata": {},
   "source": [
    "$f(x+h)+f(x-h)=2f(x)+h^2f''(x)$"
   ]
  },
  {
   "cell_type": "markdown",
   "metadata": {},
   "source": [
    "Solving for $f(x)$ gives a useful result,"
   ]
  },
  {
   "cell_type": "markdown",
   "metadata": {},
   "source": [
    "$f(x) = \\frac{1}{2}\\left[f(x+h)+f(x-h)-h^2f''(x)\\right]$"
   ]
  },
  {
   "cell_type": "markdown",
   "metadata": {},
   "source": [
    "Note that Laplace's equation states that $f''=0$ so the above equation simplifies to,"
   ]
  },
  {
   "cell_type": "markdown",
   "metadata": {},
   "source": [
    "$f(x) = \\frac{1}{2}\\left[f(x+h)+f(x-h)\\right]$"
   ]
  },
  {
   "cell_type": "markdown",
   "metadata": {},
   "source": [
    "The two-dimensonal case generalizes to,"
   ]
  },
  {
   "cell_type": "markdown",
   "metadata": {},
   "source": [
    "$f(x,y) = \\frac{1}{4}\\left[f(x+h,y)+f(x-h,y)+f(x,y+h)+f(x,y-h)\\right]$"
   ]
  },
  {
   "cell_type": "markdown",
   "metadata": {},
   "source": [
    "## Method of Relaxation"
   ]
  },
  {
   "cell_type": "markdown",
   "metadata": {},
   "source": [
    "The discrete form of the final equation in the preceeding section is"
   ]
  },
  {
   "cell_type": "markdown",
   "metadata": {},
   "source": [
    "$f^{new}_{i,j} = \\frac{1}{4}\\left[f^{old}_{i+1,j}+f^{old}_{i-1,j}+f^{old}_{i,j+1}+f^{old}_{i,j-1}\\right]$"
   ]
  },
  {
   "cell_type": "markdown",
   "metadata": {},
   "source": [
    "This is known as the Jacobi method and in it new values of $f$ are computed for each pair of values for $i$ and $j$ and upon completion of the sweep through all values of $i$ and $j$ the new values of $f$ are updated. An improvement to this method is known as Gauss-Seidel and ivolves replacement of the new values of $f$ as the sweep is in progress,"
   ]
  },
  {
   "cell_type": "markdown",
   "metadata": {},
   "source": [
    "$f^{new}_{i,j} = \\frac{1}{4}\\left[f^{old}_{i+1,j}+f^{new}_{i-1,j}+f^{old}_{i,j+1}+f^{new}_{i,j-1}\\right]$"
   ]
  },
  {
   "cell_type": "markdown",
   "metadata": {},
   "source": [
    "With either of the discrete forms in hand we are ready to step through the grid one point at a time and compute an updated version which will be used to replace the grid on subsequent passes and in this way we can construct an iterative numerical approximation which approaches the exact solution with each new pass through the grid. Successive approximations are said to $relax$ toward the solution. Though not the most efficient numerical technique,\n",
    "the relaxation method is relatively easy to implement and as an added bonus it handles boundary conditions in a natural way. "
   ]
  },
  {
   "cell_type": "markdown",
   "metadata": {},
   "source": [
    "## Gauss-Seidel in Python"
   ]
  },
  {
   "cell_type": "code",
   "execution_count": 5,
   "metadata": {
    "scrolled": true
   },
   "outputs": [
    {
     "name": "stdout",
     "output_type": "stream",
     "text": [
      "[[ 1.  1.  1.  1.  1.  1.]\n",
      " [ 1.  0.  0.  0.  0.  0.]\n",
      " [ 1.  0.  0.  0.  0.  0.]\n",
      " [ 1.  0.  0.  0.  0.  0.]\n",
      " [ 1.  0.  0.  0.  0.  0.]\n",
      " [ 1.  0.  0.  0.  0.  0.]]\n",
      "[[ 1.          1.          1.          1.          1.          1.        ]\n",
      " [ 1.          0.90909091  0.81818182  0.70454545  0.5         0.        ]\n",
      " [ 1.          0.81818182  0.65909091  0.5         0.29545455  0.        ]\n",
      " [ 1.          0.70454545  0.5         0.34090909  0.18181818  0.        ]\n",
      " [ 1.          0.5         0.29545455  0.18181818  0.09090909  0.        ]\n",
      " [ 1.          0.          0.          0.          0.          0.        ]]\n"
     ]
    }
   ],
   "source": [
    "import numpy\n",
    "\n",
    "COLS = 6\n",
    "ROWS = 4\n",
    "\n",
    "M=numpy.zeros((ROWS+2, COLS))\n",
    "M[0,:] = 1.\n",
    "M[:,0] = 1.\n",
    "initM = numpy.copy(M)\n",
    "\n",
    "for i in xrange(100):\n",
    "        for ROWelem in xrange(1,ROWS+1):\n",
    "                for COLelem in xrange(1,COLS-1):\n",
    "                        M[ROWelem,COLelem] = (M[ROWelem,COLelem-1]\n",
    "                                                +M[ROWelem,COLelem+1]\n",
    "                                                +M[ROWelem-1,COLelem]\n",
    "                                                +M[ROWelem+1,COLelem])/4.\n",
    "print initM\n",
    "print M"
   ]
  },
  {
   "cell_type": "markdown",
   "metadata": {},
   "source": [
    "The code in the above example prints out an initial grid and a final grid after 100 iterations."
   ]
  },
  {
   "cell_type": "markdown",
   "metadata": {},
   "source": [
    "## Assignment"
   ]
  },
  {
   "cell_type": "markdown",
   "metadata": {},
   "source": [
    "Your assignment is to find the 2-$d$ scalar potential,$f(x, y)$, in a rectangular vacuum bounded by four boundary conditions using the relaxation method. You will accomplish this by parallelizing the above code using MPI4Py. The value of the upper and left potentials is $f=1$ and the value of the lower and right potentials is $f = 0$."
   ]
  },
  {
   "cell_type": "markdown",
   "metadata": {},
   "source": [
    "## Questions & Due Dates"
   ]
  },
  {
   "cell_type": "markdown",
   "metadata": {},
   "source": [
    "### Due Friday, 10/27\n"
   ]
  },
  {
   "cell_type": "markdown",
   "metadata": {},
   "source": [
    "1.) Is grid stored column-wise or row-wise? How can we find out?\n"
   ]
  },
  {
   "cell_type": "markdown",
   "metadata": {},
   "source": [
    "2.) How do you intend to partition the 2-d grid? In other words, what geometry (rows and columns) should be shared with each worker? Are there columns or rows with values that are held constant in the above code? Why do you suppose the python code above is implemented with ROW+2 number of rows?"
   ]
  },
  {
   "cell_type": "markdown",
   "metadata": {},
   "source": [
    "3.) Do workers need to communicate with one another? If so, what messages need to be transmitted? Will you be using point-to-point communication, collective communication, both? How will you deliver grid or sub-grids to each worker? Via message passing or have them compute their own copies?\n"
   ]
  },
  {
   "cell_type": "markdown",
   "metadata": {},
   "source": [
    "4.) Find mathematical formulas that relate worker-rank with important rows and/or columns. \n"
   ]
  },
  {
   "cell_type": "markdown",
   "metadata": {},
   "source": [
    "### Due Wednesday, 11/1"
   ]
  },
  {
   "cell_type": "markdown",
   "metadata": {},
   "source": [
    "5.) Develop and a test code. Construct a solution iteratively. Your first attempt need not be perfect. Instead, get something that works and then improve upon it. Remember, perfect is the enemy of the good! Instead of simply running the iteration 100 times as in the code above, develop a convergence criterion that breaks out of the loop after when the solution becomes $\\textit{sufficiently}$ stable. Use your own judgement and justify what is to be considered  $\\textit{sufficiently}$ stable."
   ]
  },
  {
   "cell_type": "markdown",
   "metadata": {},
   "source": [
    "### Due Thursday, 11/9"
   ]
  },
  {
   "cell_type": "markdown",
   "metadata": {},
   "source": [
    "6.) Final version of your code."
   ]
  }
 ],
 "metadata": {
  "kernelspec": {
   "display_name": "Python 2",
   "language": "python",
   "name": "python2"
  },
  "language_info": {
   "codemirror_mode": {
    "name": "ipython",
    "version": 2
   },
   "file_extension": ".py",
   "mimetype": "text/x-python",
   "name": "python",
   "nbconvert_exporter": "python",
   "pygments_lexer": "ipython2",
   "version": "2.7.13"
  },
  "widgets": {
   "application/vnd.jupyter.widget-state+json": {
    "state": {},
    "version_major": 1,
    "version_minor": 0
   }
  }
 },
 "nbformat": 4,
 "nbformat_minor": 2
}
